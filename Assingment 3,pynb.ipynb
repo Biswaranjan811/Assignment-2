{
 "cells": [
  {
   "cell_type": "markdown",
   "id": "3c36ebd1",
   "metadata": {},
   "source": [
    "# Answer No.1"
   ]
  },
  {
   "cell_type": "code",
   "execution_count": 3,
   "id": "f2b2762c",
   "metadata": {},
   "outputs": [
    {
     "data": {
      "text/plain": [
       "3"
      ]
     },
     "execution_count": 3,
     "metadata": {},
     "output_type": "execute_result"
    }
   ],
   "source": [
    "A = \"Welcome to iNeuron, You are a part of FSDS Bootcamp 2 in iNeuron. I hope you are enjoying the course by iNeuron\"\n",
    "A.count(\"iNeuron\")"
   ]
  },
  {
   "cell_type": "markdown",
   "id": "9d63cbbf",
   "metadata": {},
   "source": [
    "# Answer No.2"
   ]
  },
  {
   "cell_type": "code",
   "execution_count": 36,
   "id": "06fe647d",
   "metadata": {},
   "outputs": [
    {
     "data": {
      "text/plain": [
       "False"
      ]
     },
     "execution_count": 36,
     "metadata": {},
     "output_type": "execute_result"
    }
   ],
   "source": [
    "B = \"Hello, welcome to FSDS 2.0 at iNeuron.\"\n",
    "B[5:11].endswith(\"iNeuron.\")"
   ]
  },
  {
   "cell_type": "markdown",
   "id": "52161de5",
   "metadata": {},
   "source": [
    "# Answer No.3"
   ]
  },
  {
   "cell_type": "code",
   "execution_count": 21,
   "id": "48f4431b",
   "metadata": {},
   "outputs": [
    {
     "name": "stdout",
     "output_type": "stream",
     "text": [
      "Enter Your Name: Biswaranjan Mallick\n",
      " B. Mallick\n"
     ]
    }
   ],
   "source": [
    "C = input((\"Enter Your Name: \"))\n",
    "print(C[0:10:20].join(\" .\"),C[12:30])\n",
    "\n"
   ]
  },
  {
   "cell_type": "markdown",
   "id": "f357fd68",
   "metadata": {},
   "source": [
    "# Answer No.4"
   ]
  },
  {
   "cell_type": "code",
   "execution_count": 28,
   "id": "5a226cf9",
   "metadata": {},
   "outputs": [
    {
     "name": "stdout",
     "output_type": "stream",
     "text": [
      "My # name # is # Biswaranjan # Mallick\n"
     ]
    }
   ],
   "source": [
    "L =[\"My\", \"name\", \"is\", \"Biswaranjan\", \"Mallick\"]\n",
    "S = \" # \"\n",
    "print(S.join(L))"
   ]
  },
  {
   "cell_type": "code",
   "execution_count": 32,
   "id": "e035fe9f",
   "metadata": {},
   "outputs": [
    {
     "name": "stdout",
     "output_type": "stream",
     "text": [
      "My # name # is # Rishav # Dash\n"
     ]
    }
   ],
   "source": [
    "L =[\"My\", \"name\", \"is\", \"Rishav\", \"Dash\"]\n",
    "S = \" # \"\n",
    "print(S.join(L))"
   ]
  },
  {
   "cell_type": "code",
   "execution_count": 33,
   "id": "1f234ab3",
   "metadata": {},
   "outputs": [
    {
     "data": {
      "text/plain": [
       "str"
      ]
     },
     "execution_count": 33,
     "metadata": {},
     "output_type": "execute_result"
    }
   ],
   "source": [
    "type(S)"
   ]
  },
  {
   "cell_type": "markdown",
   "id": "030e92d6",
   "metadata": {},
   "source": [
    "# Answer No.5"
   ]
  },
  {
   "cell_type": "code",
   "execution_count": 44,
   "id": "dc1b6cda",
   "metadata": {},
   "outputs": [
    {
     "name": "stdout",
     "output_type": "stream",
     "text": [
      "40.8\n",
      "input : 40.8\n",
      "It is Decimal\n"
     ]
    }
   ],
   "source": [
    "D = input(\"\")\n",
    "print (f\"input : {D}\")\n",
    "if D.isdecimal() == float():\n",
    "    print(f\"It is Decimal\")\n",
    "elif D.islower() :\n",
    "    print(f\"It is lower case\")\n",
    "elif D. isupper() :\n",
    "    print(f\"It is Upper case\")\n",
    "elif D. isalpha() :\n",
    "    print(f\"This is Alphabets\")\n",
    "elif D.isnumeric() :\n",
    "    print(f\"This is Numbers\")\n",
    "else:\n",
    "    print(f\"check input and enter correct input\")"
   ]
  },
  {
   "cell_type": "code",
   "execution_count": 46,
   "id": "ef03c7b5",
   "metadata": {},
   "outputs": [
    {
     "name": "stdout",
     "output_type": "stream",
     "text": [
      "biswaranjan\n",
      "input : biswaranjan\n",
      "It is lower case\n"
     ]
    }
   ],
   "source": [
    "D = input(\"\")\n",
    "print (f\"input : {D}\")\n",
    "if D.isdecimal():\n",
    "    print(f\"It is Decimal\")\n",
    "elif D.islower() :\n",
    "    print(f\"It is lower case\")\n",
    "elif D. isupper() :\n",
    "    print(f\"It is Upper case\")\n",
    "elif D. isalpha() :\n",
    "    print(f\"This is Alphabets\")\n",
    "elif D.isnumeric() :\n",
    "    print(f\"This is Numbers\")\n",
    "else:\n",
    "    print(f\"check input and enter correct input\")"
   ]
  },
  {
   "cell_type": "code",
   "execution_count": 47,
   "id": "e9258df1",
   "metadata": {},
   "outputs": [
    {
     "name": "stdout",
     "output_type": "stream",
     "text": [
      "BISWARANJAN\n",
      "input : BISWARANJAN\n",
      "It is Upper case\n"
     ]
    }
   ],
   "source": [
    "D = input(\"\")\n",
    "print (f\"input : {D}\")\n",
    "if D.isdecimal():\n",
    "    print(f\"It is Decimal\")\n",
    "elif D.islower() :\n",
    "    print(f\"It is lower case\")\n",
    "elif D. isupper() :\n",
    "    print(f\"It is Upper case\")\n",
    "elif D. isalpha() :\n",
    "    print(f\"This is Alphabets\")\n",
    "elif D.isnumeric() :\n",
    "    print(f\"This is Numbers\")\n",
    "else:\n",
    "    print(f\"check input and enter correct input\")"
   ]
  },
  {
   "cell_type": "code",
   "execution_count": 3,
   "id": "6a87eac0",
   "metadata": {},
   "outputs": [
    {
     "name": "stdout",
     "output_type": "stream",
     "text": [
      "\"Biswa\"\n",
      "input : \"Biswa\"\n",
      "check input and enter correct input\n"
     ]
    }
   ],
   "source": [
    "D = input(\"\")\n",
    "print (f\"input : {D}\")\n",
    "if D.isdecimal():\n",
    "    print(f\"It is Decimal\")\n",
    "elif D.islower() :\n",
    "    print(f\"It is lower case\")\n",
    "elif D. isupper() :\n",
    "    print(f\"It is Upper case\")\n",
    "elif D. isalpha() :\n",
    "    print(f\"This is Alphabets :{D.isalpha()}\")\n",
    "elif D.isnumeric() :\n",
    "    print(f\"This is Numbers\")\n",
    "else:\n",
    "    print(f\"check input and enter correct input\")"
   ]
  },
  {
   "cell_type": "code",
   "execution_count": 4,
   "id": "04627921",
   "metadata": {},
   "outputs": [
    {
     "name": "stdout",
     "output_type": "stream",
     "text": [
      "'Biswa'\n",
      "input : 'Biswa'\n",
      "check input and enter correct input\n"
     ]
    }
   ],
   "source": [
    "D = input(\"\")\n",
    "print (f\"input : {D}\")\n",
    "if D.isdecimal():\n",
    "    print(f\"It is Decimal\")\n",
    "elif D.islower() :\n",
    "    print(f\"It is lower case\")\n",
    "elif D. isupper() :\n",
    "    print(f\"It is Upper case\")\n",
    "elif D. isalpha() :\n",
    "    print(f\"This is Alphabets :{D.isalpha()}\")\n",
    "elif D.isnumeric() :\n",
    "    print(f\"This is Numbers\")\n",
    "else:\n",
    "    print(f\"check input and enter correct input\")"
   ]
  },
  {
   "cell_type": "code",
   "execution_count": 5,
   "id": "b35ca99e",
   "metadata": {},
   "outputs": [
    {
     "name": "stdout",
     "output_type": "stream",
     "text": [
      "it alphabets:True\n"
     ]
    }
   ],
   "source": [
    "E = \"Biswa\"\n",
    "print(f\"it alphabets:{E.isalpha()}\" )"
   ]
  },
  {
   "cell_type": "code",
   "execution_count": 14,
   "id": "2d9d5a5d",
   "metadata": {},
   "outputs": [
    {
     "name": "stdout",
     "output_type": "stream",
     "text": [
      "these are numbers:True\n"
     ]
    }
   ],
   "source": [
    "F = \"1234567\"\n",
    "print(f\"these are numbers:{F.isnumeric()}\")"
   ]
  },
  {
   "cell_type": "markdown",
   "id": "20b11302",
   "metadata": {},
   "source": [
    "# Answer No.6"
   ]
  },
  {
   "cell_type": "code",
   "execution_count": 17,
   "id": "2f517ee5",
   "metadata": {},
   "outputs": [
    {
     "name": "stdout",
     "output_type": "stream",
     "text": [
      "Your Pan is Verified : True\n"
     ]
    }
   ],
   "source": [
    "G = \"AYEPC7894X\"\n",
    "if G.isalnum():\n",
    "    print(f\"Your Pan is Verified : {G.isalnum()}\")\n",
    "else:\n",
    "    print(f\"PLEASE PROVIDE A VALID PAN CARD\")"
   ]
  },
  {
   "cell_type": "code",
   "execution_count": 21,
   "id": "a360022b",
   "metadata": {},
   "outputs": [
    {
     "name": "stdout",
     "output_type": "stream",
     "text": [
      "Enter your Pan Number:AYEPC7894X\n",
      "Your Pan is Verified : True\n"
     ]
    }
   ],
   "source": [
    "G = input(\"Enter your Pan Number:\")\n",
    "if G.isalnum():\n",
    "    print(f\"Your Pan is Verified : {G.isalnum()}\")\n",
    "else:\n",
    "    print(f\"PLEASE PROVIDE A VALID PAN CARD\")"
   ]
  },
  {
   "cell_type": "code",
   "execution_count": 20,
   "id": "fe8e90ca",
   "metadata": {},
   "outputs": [
    {
     "name": "stdout",
     "output_type": "stream",
     "text": [
      "Enter your Pan Number\"biswaranjan\"\n",
      "PLEASE PROVIDE A VALID PAN CARD\n"
     ]
    }
   ],
   "source": [
    "G = input(\"Enter your Pan Number\")\n",
    "if G.isalnum():\n",
    "    print(f\"Your Pan is Verified : {G.isalnum()}\")\n",
    "else:\n",
    "    print(f\"PLEASE PROVIDE A VALID PAN CARD\")"
   ]
  },
  {
   "cell_type": "code",
   "execution_count": null,
   "id": "a881a2ef",
   "metadata": {},
   "outputs": [],
   "source": []
  }
 ],
 "metadata": {
  "kernelspec": {
   "display_name": "Python 3 (ipykernel)",
   "language": "python",
   "name": "python3"
  },
  "language_info": {
   "codemirror_mode": {
    "name": "ipython",
    "version": 3
   },
   "file_extension": ".py",
   "mimetype": "text/x-python",
   "name": "python",
   "nbconvert_exporter": "python",
   "pygments_lexer": "ipython3",
   "version": "3.9.12"
  }
 },
 "nbformat": 4,
 "nbformat_minor": 5
}
